{
 "cells": [
  {
   "cell_type": "markdown",
   "metadata": {},
   "source": [
    "# Amazon Sentiment Analysis"
   ]
  },
  {
   "cell_type": "markdown",
   "metadata": {},
   "source": [
    "# Imports"
   ]
  },
  {
   "cell_type": "code",
   "execution_count": 1,
   "metadata": {},
   "outputs": [],
   "source": [
    "import pandas as pd\n",
    "import numpy as np\n",
    "import seaborn as sns\n",
    "import matplotlib.pyplot as plt\n",
    "import re\n",
    "\n",
    "# Models \n",
    "from sklearn.neighbors import KNeighborsClassifier\n",
    "from sklearn.ensemble import GradientBoostingClassifier\n",
    "from sklearn.naive_bayes import GaussianNB\n",
    "from sklearn.linear_model import LogisticRegression\n",
    "from sklearn.tree import DecisionTreeClassifier\n",
    "from sklearn.ensemble import RandomForestClassifier\n",
    "from sklearn.svm import SVC\n",
    "from sklearn.naive_bayes import MultinomialNB\n",
    "from sklearn.discriminant_analysis import LinearDiscriminantAnalysis\n",
    "from sklearn.gaussian_process import GaussianProcessClassifier\n",
    "from xgboost import XGBClassifier\n",
    "\n",
    "# Data Processing\n",
    "from sklearn.model_selection import train_test_split\n",
    "from sklearn.metrics import accuracy_score, confusion_matrix\n",
    "from sklearn.model_selection import GridSearchCV\n",
    "from sklearn.metrics import make_scorer, f1_score\n",
    "from sklearn.model_selection import RepeatedStratifiedKFold, cross_val_score\n",
    "from sklearn.preprocessing import StandardScaler\n",
    "\n",
    "\n",
    "from transformers import AutoTokenizer, AutoModelForSequenceClassification\n",
    "from sklearn.feature_extraction.text import TfidfVectorizer\n",
    "from transformers import pipeline\n",
    "\n",
    "\n",
    "from collections import Counter\n",
    "\n",
    "import torch\n",
    "\n",
    "import nltk\n",
    "from sklearn.feature_extraction.text import ENGLISH_STOP_WORDS\n",
    "from nltk.tokenize import word_tokenize\n",
    "\n",
    "from nltk.sentiment import SentimentIntensityAnalyzer\n",
    "import nltk\n",
    "\n",
    "\n",
    "import os\n",
    "os.environ[\"TOKENIZERS_PARALLELISM\"] = \"false\""
   ]
  },
  {
   "cell_type": "markdown",
   "metadata": {},
   "source": [
    "# Functions"
   ]
  },
  {
   "cell_type": "code",
   "execution_count": 16,
   "metadata": {},
   "outputs": [],
   "source": [
    "def check_class_imbalance(df:pd.DataFrame, target:pd.Series, col:str):\n",
    "  counter = Counter(target)\n",
    "  for k,v in counter.items():\n",
    "    per = v/len(target) * 100\n",
    "    print(\"Class=%s, Count=%d, Percentage=%.3f%%\" % (k,v, per))\n",
    "  \n",
    "  ax = df[col].value_counts().sort_index().plot(\n",
    "  kind=\"bar\", \n",
    "  title=\"Count of Reviews by Target\", \n",
    "  figsize=(10,5)\n",
    "  )\n",
    "  ax.set_xlabel(col)\n",
    "  plt.show()\n",
    "  \n",
    "def remove_stop_words(review:str):\n",
    "    word_tokens = \" \".join(word_tokenize(review))\n",
    "    filtered_word_tokens = re.sub(r'[^a-zA-Z\\s]', '', word_tokens).split(\" \")\n",
    "    filtered_sentence = [w.lower().strip() for w in filtered_word_tokens if not w.lower() in ENGLISH_STOP_WORDS]\n",
    "    return ' '.join(filtered_sentence).strip()\n",
    "def evaluate_model(X, y, model):\n",
    "  cv = RepeatedStratifiedKFold(n_splits=5, n_repeats=3, random_state=1)\n",
    "  \n",
    "  metric = make_scorer(f1_score)\n",
    "  scores = cross_val_score(model, X, y, scoring=metric, cv=cv, n_jobs=-1)\n",
    "  return scores\n",
    "\n",
    "def testing_selected_models(names:list, models:list, X:pd.DataFrame, y:pd.Series):\n",
    "    \"\"\"\n",
    "    Runs multiple subsets on folds of data\n",
    "\n",
    "    Args:\n",
    "        names (list): _description_\n",
    "        models (list): _description_\n",
    "    \"\"\"\n",
    "    model_performance = []\n",
    "    for i in range(len(models)):\n",
    "        model = models[i]\n",
    "        # Evaluate the model\n",
    "        scores = evaluate_model(X, y, model)\n",
    "        # summarize and store\n",
    "        model_performance.append({\n",
    "            \"Model\": names[i],\n",
    "            \"Mean\": np.mean(scores),\n",
    "            \"STD\":np.std(scores)\n",
    "        })\n",
    "    performance_df = pd.DataFrame(model_performance)\n",
    "    return performance_df.sort_values(by=\"Mean\", ascending=False)\n",
    "def get_selected_models(names):\n",
    "  \"\"\"\n",
    "  Returns selected models for ML processing\n",
    "\n",
    "  Args:\n",
    "      names (_type_):List\n",
    "\n",
    "  Returns:\n",
    "      List of models\n",
    "  \"\"\"\n",
    "  models = {\n",
    "    \"LDA\": LinearDiscriminantAnalysis(),\n",
    "    \"GPC\": GaussianProcessClassifier(),\n",
    "    \"GNB\": GaussianNB(),\n",
    "    \"SVC\": SVC(),\n",
    "    \"LR\":LogisticRegression(max_iter=1000),\n",
    "    \"KNN\": KNeighborsClassifier(),\n",
    "    \"DTC\": DecisionTreeClassifier(),\n",
    "    \"GBC\":GradientBoostingClassifier(),\n",
    "    \"RFC\":RandomForestClassifier(),\n",
    "    \"XGB\": XGBClassifier(),\n",
    "    \"MN\": MultinomialNB()\n",
    "  }\n",
    "  \n",
    "  return [models[model] for model in names]\n",
    "\n",
    "def testing_selected_models(names:list, models:list, X:pd.DataFrame, y:pd.Series):\n",
    "    \"\"\"\n",
    "    Runs multiple subsets on folds of data\n",
    "\n",
    "    Args:\n",
    "        names (list): _description_\n",
    "        models (list): _description_\n",
    "    \"\"\"\n",
    "    model_performance = []\n",
    "    for i in range(len(models)):\n",
    "        model = models[i]\n",
    "        scores = evaluate_model(X, y, model)\n",
    "        model_performance.append({\n",
    "            \"Model\": names[i],\n",
    "            \"Mean\": np.mean(scores),\n",
    "            \"STD\":np.std(scores)\n",
    "        })\n",
    "    performance_df = pd.DataFrame(model_performance)\n",
    "    return performance_df.sort_values(by=\"Mean\", ascending=False)\n",
    "def grid_search_selected_models(param_grid:dict,names:list, models:list, X:pd.DataFrame, y:pd.Series, metric):\n",
    "    \"\"\"\n",
    "    Runs multiple subsets on folds of data\n",
    "\n",
    "    Args:\n",
    "        names (list): _description_\n",
    "        models (list): _description_\n",
    "    \"\"\"\n",
    "    \n",
    "    X_train, X_test, y_train, y_test = train_test_split(X, y, test_size=0.30, random_state=42)\n",
    "\n",
    "    model_performance = []\n",
    "\n",
    "    for i in range(len(models)):\n",
    "        model, name = models[i], names[i]\n",
    "            \n",
    "        grid_search = GridSearchCV(model, param_grid[name], cv=2, scoring=metric, n_jobs=-1)\n",
    "        grid_search.fit(X_train, y_train)\n",
    "        best_model = grid_search.best_estimator_\n",
    "            \n",
    "        # Predict on the test set\n",
    "        y_pred = best_model.predict(X_test)\n",
    "        accuracy = accuracy_score(y_test, y_pred)\n",
    "            \n",
    "        print(f'Best score for {name}: {grid_search.best_score_:.3f}')\n",
    "        print(\"Best parameters:\", grid_search.best_params_)\n",
    "        \n",
    "        print(f'Test accuracy for {name}: {accuracy:.3f}')\n",
    "        print(\"---------------------------------------------------------------\")\n",
    "        \n",
    "        conf_mat = confusion_matrix(y_test, y_pred)\n",
    "        # Plot the confusion matrix\n",
    "        plt.figure(figsize=(8,6))\n",
    "        sns.heatmap(conf_mat, annot=True, fmt='d', cmap='Blues')\n",
    "        plt.xlabel('Predicted Labels')\n",
    "        plt.ylabel('True Labels')\n",
    "        plt.title(f'Confusion Matrix for {names[i]}')\n",
    "        plt.show()\n",
    "            \n",
    "        model_performance.append({\n",
    "                \"Model\": name,\n",
    "                \"Best CV Score\": grid_search.best_score_,\n",
    "                \"Test Accuracy\": accuracy,\n",
    "                \"Best Parameters\": grid_search.best_params_\n",
    "        })\n",
    "\n",
    "\n",
    "    model_performance_df = pd.DataFrame(model_performance)\n",
    "    print(model_performance_df)"
   ]
  },
  {
   "cell_type": "markdown",
   "metadata": {},
   "source": [
    "# EDA Analysis"
   ]
  },
  {
   "cell_type": "code",
   "execution_count": 3,
   "metadata": {},
   "outputs": [],
   "source": [
    "df = pd.read_csv(\"/Users/maukanmir/Downloads/amazon.csv\")"
   ]
  },
  {
   "cell_type": "markdown",
   "metadata": {},
   "source": [
    "# Check for nulls and Dupes"
   ]
  },
  {
   "cell_type": "code",
   "execution_count": 4,
   "metadata": {},
   "outputs": [
    {
     "name": "stdout",
     "output_type": "stream",
     "text": [
      "Null Count: Text     0\n",
      "label    0\n",
      "dtype: int64\n",
      "Dupe Count: 0\n"
     ]
    }
   ],
   "source": [
    "print(f\"Null Count: {df.isna().sum()}\")\n",
    "print(f\"Dupe Count: {df.duplicated().sum()}\")"
   ]
  },
  {
   "cell_type": "markdown",
   "metadata": {},
   "source": [
    "# Check Class Imbalance"
   ]
  },
  {
   "cell_type": "code",
   "execution_count": 15,
   "metadata": {},
   "outputs": [
    {
     "name": "stdout",
     "output_type": "stream",
     "text": [
      "Class=1, Count=15230, Percentage=76.165%\n",
      "Class=0, Count=4766, Percentage=23.835%\n"
     ]
    },
    {
     "data": {
      "image/png": "[encoded data removed]",
      "text/plain": [
       "<Figure size 1000x500 with 1 Axes>"
      ]
     },
     "metadata": {},
     "output_type": "display_data"
    }
   ],
   "source": [
    "check_class_imbalance(df, df[\"label\"], 'label')"
   ]
  },
  {
   "cell_type": "code",
   "execution_count": 9,
   "metadata": {},
   "outputs": [
    {
     "data": {
      "text/plain": [
       "0        best apps acording bunch people agree bombs eg...\n",
       "1        pretty good version game free  lots different ...\n",
       "2              really  bunch levels golden eggs  super fun\n",
       "3        silly game frustrating  lots fun definitely re...\n",
       "4        terrific game pad  hrs fun  grandkids love  gr...\n",
       "                               ...                        \n",
       "19991    app fricken stupidit froze kindle wont allow p...\n",
       "19992    add      need neighbors  ginger               ...\n",
       "19993    love  game  awesome  wish free stuff houses di...\n",
       "19994    love love love app fashion story fights wonder...\n",
       "19995    game rip  list things make better  bull   need...\n",
       "Name: Text, Length: 19996, dtype: object"
      ]
     },
     "execution_count": 9,
     "metadata": {},
     "output_type": "execute_result"
    }
   ],
   "source": [
    "df['Text'].apply(lambda text: remove_stop_words(text))"
   ]
  },
  {
   "cell_type": "code",
   "execution_count": 10,
   "metadata": {},
   "outputs": [],
   "source": [
    "new_df = df.copy()"
   ]
  },
  {
   "cell_type": "markdown",
   "metadata": {},
   "source": [
    "# Data Pipeline"
   ]
  },
  {
   "cell_type": "code",
   "execution_count": 11,
   "metadata": {},
   "outputs": [],
   "source": [
    "from transformers import DistilBertTokenizer, DistilBertModel\n",
    "\n",
    "tokenizer = DistilBertTokenizer.from_pretrained('distilbert-base-cased')\n",
    "model = DistilBertModel.from_pretrained('distilbert-base-cased')"
   ]
  },
  {
   "cell_type": "code",
   "execution_count": 12,
   "metadata": {},
   "outputs": [],
   "source": [
    "def get_embeddings(text):\n",
    "    inputs = tokenizer(text, return_tensors=\"pt\", padding=True, truncation=True, max_length=512)\n",
    "    \n",
    "    with torch.no_grad():\n",
    "        outputs = model(**inputs)\n",
    "    \n",
    "    last_hidden_states = outputs.last_hidden_state\n",
    "    \n",
    "    mean_embeddings = last_hidden_states.mean(dim=1)\n",
    "    return mean_embeddings.numpy()"
   ]
  },
  {
   "cell_type": "code",
   "execution_count": 13,
   "metadata": {},
   "outputs": [],
   "source": [
    "new_df['text_embeddings'] = new_df['Text'].apply(lambda x: get_embeddings(x))"
   ]
  },
  {
   "cell_type": "code",
   "execution_count": 19,
   "metadata": {},
   "outputs": [],
   "source": [
    "features = np.array(new_df['text_embeddings'].tolist()).reshape(new_df.shape[0], -1)"
   ]
  },
  {
   "cell_type": "markdown",
   "metadata": {},
   "source": [
    "# Separate Feature Variables"
   ]
  },
  {
   "cell_type": "code",
   "execution_count": 20,
   "metadata": {},
   "outputs": [],
   "source": [
    "X,y = features, new_df['label']"
   ]
  },
  {
   "cell_type": "markdown",
   "metadata": {},
   "source": [
    "# Baseline Model"
   ]
  },
  {
   "cell_type": "code",
   "execution_count": 24,
   "metadata": {},
   "outputs": [
    {
     "name": "stdout",
     "output_type": "stream",
     "text": [
      "Mean: 0.604 (0.010)\n"
     ]
    }
   ],
   "source": [
    "\n",
    "from sklearn.dummy import DummyClassifier\n",
    "\n",
    "model = DummyClassifier(strategy='uniform') \n",
    "\n",
    "scores = evaluate_model(features, y, model)\n",
    "print('Mean: %.3f (%.3f)' % (np.mean(scores), np.std(scores)))"
   ]
  },
  {
   "cell_type": "markdown",
   "metadata": {},
   "source": [
    "# Advanced Model Metrics"
   ]
  },
  {
   "cell_type": "code",
   "execution_count": 25,
   "metadata": {},
   "outputs": [
    {
     "data": {
      "text/html": [
       "<div>\n",
       "<style scoped>\n",
       "    .dataframe tbody tr th:only-of-type {\n",
       "        vertical-align: middle;\n",
       "    }\n",
       "\n",
       "    .dataframe tbody tr th {\n",
       "        vertical-align: top;\n",
       "    }\n",
       "\n",
       "    .dataframe thead th {\n",
       "        text-align: right;\n",
       "    }\n",
       "</style>\n",
       "<table border=\"1\" class=\"dataframe\">\n",
       "  <thead>\n",
       "    <tr style=\"text-align: right;\">\n",
       "      <th></th>\n",
       "      <th>Model</th>\n",
       "      <th>Mean</th>\n",
       "      <th>STD</th>\n",
       "    </tr>\n",
       "  </thead>\n",
       "  <tbody>\n",
       "    <tr>\n",
       "      <th>0</th>\n",
       "      <td>XGB</td>\n",
       "      <td>0.928170</td>\n",
       "      <td>0.003219</td>\n",
       "    </tr>\n",
       "    <tr>\n",
       "      <th>1</th>\n",
       "      <td>RFC</td>\n",
       "      <td>0.917858</td>\n",
       "      <td>0.001900</td>\n",
       "    </tr>\n",
       "    <tr>\n",
       "      <th>2</th>\n",
       "      <td>DTC</td>\n",
       "      <td>0.860921</td>\n",
       "      <td>0.004613</td>\n",
       "    </tr>\n",
       "  </tbody>\n",
       "</table>\n",
       "</div>"
      ],
      "text/plain": [
       "  Model      Mean       STD\n",
       "0   XGB  0.928170  0.003219\n",
       "1   RFC  0.917858  0.001900\n",
       "2   DTC  0.860921  0.004613"
      ]
     },
     "execution_count": 25,
     "metadata": {},
     "output_type": "execute_result"
    }
   ],
   "source": [
    "names = ['XGB', \"RFC\", \"DTC\"]\n",
    "models = get_selected_models(names)\n",
    "testing_selected_models(names, models, X, y)"
   ]
  },
  {
   "cell_type": "code",
   "execution_count": 26,
   "metadata": {},
   "outputs": [
    {
     "data": {
      "text/html": [
       "<div>\n",
       "<style scoped>\n",
       "    .dataframe tbody tr th:only-of-type {\n",
       "        vertical-align: middle;\n",
       "    }\n",
       "\n",
       "    .dataframe tbody tr th {\n",
       "        vertical-align: top;\n",
       "    }\n",
       "\n",
       "    .dataframe thead th {\n",
       "        text-align: right;\n",
       "    }\n",
       "</style>\n",
       "<table border=\"1\" class=\"dataframe\">\n",
       "  <thead>\n",
       "    <tr style=\"text-align: right;\">\n",
       "      <th></th>\n",
       "      <th>Model</th>\n",
       "      <th>Mean</th>\n",
       "      <th>STD</th>\n",
       "    </tr>\n",
       "  </thead>\n",
       "  <tbody>\n",
       "    <tr>\n",
       "      <th>0</th>\n",
       "      <td>LR</td>\n",
       "      <td>0.938193</td>\n",
       "      <td>0.002425</td>\n",
       "    </tr>\n",
       "    <tr>\n",
       "      <th>1</th>\n",
       "      <td>SVC</td>\n",
       "      <td>0.933402</td>\n",
       "      <td>0.002683</td>\n",
       "    </tr>\n",
       "  </tbody>\n",
       "</table>\n",
       "</div>"
      ],
      "text/plain": [
       "  Model      Mean       STD\n",
       "0    LR  0.938193  0.002425\n",
       "1   SVC  0.933402  0.002683"
      ]
     },
     "execution_count": 26,
     "metadata": {},
     "output_type": "execute_result"
    }
   ],
   "source": [
    "names = ['LR', \"SVC\"]\n",
    "models = get_selected_models(names)\n",
    "testing_selected_models(names, models, X, y)"
   ]
  },
  {
   "cell_type": "markdown",
   "metadata": {},
   "source": [
    "# MLP Tuning"
   ]
  },
  {
   "cell_type": "code",
   "execution_count": 27,
   "metadata": {},
   "outputs": [
    {
     "name": "stderr",
     "output_type": "stream",
     "text": [
      "/Users/maukanmir/miniforge3/envs/machine-learning-env/lib/python3.9/site-packages/keras/optimizers/optimizer_v2/gradient_descent.py:114: UserWarning: The `lr` argument is deprecated, use `learning_rate` instead.\n",
      "  super().__init__(name, **kwargs)\n",
      "/var/folders/bb/2qsf8cm95jg05zrms2_8m2qr0000gn/T/ipykernel_81491/3426457354.py:10: DeprecationWarning: KerasClassifier is deprecated, use Sci-Keras (https://github.com/adriangb/scikeras) instead. See https://www.adriangb.com/scikeras/stable/migration.html for help migrating.\n",
      "  model = KerasClassifier(\n",
      "2024-04-30 19:23:18.432405: W tensorflow/tsl/platform/profile_utils/cpu_utils.cc:128] Failed to get CPU frequency: 0 Hz\n",
      "/var/folders/bb/2qsf8cm95jg05zrms2_8m2qr0000gn/T/ipykernel_81491/3426457354.py:17: DeprecationWarning: KerasClassifier is deprecated, use Sci-Keras (https://github.com/adriangb/scikeras) instead. See https://www.adriangb.com/scikeras/stable/migration.html for help migrating.\n",
      "  model = KerasClassifier(\n",
      "/var/folders/bb/2qsf8cm95jg05zrms2_8m2qr0000gn/T/ipykernel_81491/3426457354.py:25: DeprecationWarning: KerasClassifier is deprecated, use Sci-Keras (https://github.com/adriangb/scikeras) instead. See https://www.adriangb.com/scikeras/stable/migration.html for help migrating.\n",
      "  model = KerasClassifier(\n"
     ]
    },
    {
     "data": {
      "text/html": [
       "<div>\n",
       "<style scoped>\n",
       "    .dataframe tbody tr th:only-of-type {\n",
       "        vertical-align: middle;\n",
       "    }\n",
       "\n",
       "    .dataframe tbody tr th {\n",
       "        vertical-align: top;\n",
       "    }\n",
       "\n",
       "    .dataframe thead th {\n",
       "        text-align: right;\n",
       "    }\n",
       "</style>\n",
       "<table border=\"1\" class=\"dataframe\">\n",
       "  <thead>\n",
       "    <tr style=\"text-align: right;\">\n",
       "      <th></th>\n",
       "      <th>Model</th>\n",
       "      <th>Accuracy</th>\n",
       "      <th>Optimizer</th>\n",
       "      <th>Value</th>\n",
       "    </tr>\n",
       "  </thead>\n",
       "  <tbody>\n",
       "    <tr>\n",
       "      <th>7</th>\n",
       "      <td>L1</td>\n",
       "      <td>0.904984</td>\n",
       "      <td>SGD:0.001</td>\n",
       "      <td>0.0001</td>\n",
       "    </tr>\n",
       "    <tr>\n",
       "      <th>11</th>\n",
       "      <td>L2</td>\n",
       "      <td>0.904651</td>\n",
       "      <td>SGD:0.001</td>\n",
       "      <td>0.0001</td>\n",
       "    </tr>\n",
       "    <tr>\n",
       "      <th>3</th>\n",
       "      <td>Dropout</td>\n",
       "      <td>0.903150</td>\n",
       "      <td>SGD:0.001</td>\n",
       "      <td>0.0001</td>\n",
       "    </tr>\n",
       "    <tr>\n",
       "      <th>10</th>\n",
       "      <td>L2</td>\n",
       "      <td>0.903150</td>\n",
       "      <td>SGD:0.01</td>\n",
       "      <td>0.0010</td>\n",
       "    </tr>\n",
       "    <tr>\n",
       "      <th>6</th>\n",
       "      <td>L1</td>\n",
       "      <td>0.900650</td>\n",
       "      <td>SGD:0.01</td>\n",
       "      <td>0.0010</td>\n",
       "    </tr>\n",
       "    <tr>\n",
       "      <th>0</th>\n",
       "      <td>Dropout</td>\n",
       "      <td>0.896816</td>\n",
       "      <td>Adam</td>\n",
       "      <td>0.1000</td>\n",
       "    </tr>\n",
       "    <tr>\n",
       "      <th>2</th>\n",
       "      <td>Dropout</td>\n",
       "      <td>0.896816</td>\n",
       "      <td>SGD:0.01</td>\n",
       "      <td>0.0010</td>\n",
       "    </tr>\n",
       "    <tr>\n",
       "      <th>9</th>\n",
       "      <td>L2</td>\n",
       "      <td>0.895483</td>\n",
       "      <td>RmsProp</td>\n",
       "      <td>0.0100</td>\n",
       "    </tr>\n",
       "    <tr>\n",
       "      <th>1</th>\n",
       "      <td>Dropout</td>\n",
       "      <td>0.893316</td>\n",
       "      <td>RmsProp</td>\n",
       "      <td>0.0100</td>\n",
       "    </tr>\n",
       "    <tr>\n",
       "      <th>5</th>\n",
       "      <td>L1</td>\n",
       "      <td>0.881147</td>\n",
       "      <td>RmsProp</td>\n",
       "      <td>0.0100</td>\n",
       "    </tr>\n",
       "    <tr>\n",
       "      <th>8</th>\n",
       "      <td>L2</td>\n",
       "      <td>0.877313</td>\n",
       "      <td>Adam</td>\n",
       "      <td>0.1000</td>\n",
       "    </tr>\n",
       "    <tr>\n",
       "      <th>4</th>\n",
       "      <td>L1</td>\n",
       "      <td>0.757293</td>\n",
       "      <td>Adam</td>\n",
       "      <td>0.1000</td>\n",
       "    </tr>\n",
       "  </tbody>\n",
       "</table>\n",
       "</div>"
      ],
      "text/plain": [
       "      Model  Accuracy  Optimizer   Value\n",
       "7        L1  0.904984  SGD:0.001  0.0001\n",
       "11       L2  0.904651  SGD:0.001  0.0001\n",
       "3   Dropout  0.903150  SGD:0.001  0.0001\n",
       "10       L2  0.903150   SGD:0.01  0.0010\n",
       "6        L1  0.900650   SGD:0.01  0.0010\n",
       "0   Dropout  0.896816       Adam  0.1000\n",
       "2   Dropout  0.896816   SGD:0.01  0.0010\n",
       "9        L2  0.895483    RmsProp  0.0100\n",
       "1   Dropout  0.893316    RmsProp  0.0100\n",
       "5        L1  0.881147    RmsProp  0.0100\n",
       "8        L2  0.877313       Adam  0.1000\n",
       "4        L1  0.757293       Adam  0.1000"
      ]
     },
     "execution_count": 27,
     "metadata": {},
     "output_type": "execute_result"
    }
   ],
   "source": [
    "from keras.optimizers import SGD, Adam, RMSprop\n",
    "from keras.regularizers import l2, l1\n",
    "from tensorflow.keras.wrappers.scikit_learn import KerasClassifier\n",
    "from tensorflow.keras.models import Sequential\n",
    "from tensorflow.keras.layers import Dense, Dropout\n",
    "\n",
    "def create_keras_classifier(function, optimizer, idx, param):\n",
    "    if idx == 0:\n",
    "        \n",
    "        model = KerasClassifier(\n",
    "            build_fn=lambda: function(input_dim=X_train.shape[1], optimizer=optimizer)\n",
    "            , epochs=100, \n",
    "            batch_size=64, \n",
    "            verbose=0\n",
    "            )\n",
    "    elif idx ==1:\n",
    "        model = KerasClassifier(\n",
    "            build_fn=lambda: function(input_dim=X_train.shape[1], optimizer=optimizer, param=param)\n",
    "            , epochs=100, \n",
    "            batch_size=64, \n",
    "            verbose=0\n",
    "            )\n",
    "        \n",
    "    else:\n",
    "        model = KerasClassifier(\n",
    "            build_fn=lambda: function(input_dim=X_train.shape[1], optimizer=optimizer, param=param)\n",
    "            , epochs=100, \n",
    "            batch_size=64, \n",
    "            verbose=0\n",
    "            )\n",
    "    return model\n",
    "\n",
    "def create_model_dropout(input_dim, optimizer='adam'):\n",
    "    model = Sequential()\n",
    "    model.add(Dense(64, input_dim=input_dim, activation='relu'))\n",
    "    model.add(Dropout(0.2))\n",
    "    model.add(Dense(32, activation='relu'))\n",
    "    model.add(Dropout(0.2))\n",
    "    model.add(Dense(1, activation='sigmoid'))\n",
    "    model.compile(loss='binary_crossentropy', optimizer=optimizer, metrics=['accuracy'])\n",
    "    return model\n",
    "def create_model_regularizerl2(input_dim, optimizer=\"adam\",param= 0.001):\n",
    "    model = Sequential()\n",
    "    model.add(Dense(64, input_dim=input_dim, activation='relu', kernel_regularizer=l2(param) ))\n",
    "    model.add(Dense(32, activation='relu'))\n",
    "    model.add(Dense(1, activation='sigmoid'))\n",
    "    model.compile(loss='binary_crossentropy', optimizer=optimizer, metrics=['accuracy'])\n",
    "    return model\n",
    "def create_model_regularizerL1(input_dim, optimizer=\"adam\",param= 0.001):\n",
    "    model = Sequential()\n",
    "    model.add(Dense(64, input_dim=input_dim, activation='relu', activity_regularizer=l1(param) ))\n",
    "    model.add(Dense(32, activation='relu'))\n",
    "    model.add(Dense(1, activation='sigmoid'))\n",
    "    model.compile(loss='binary_crossentropy', optimizer=optimizer, metrics=['accuracy'])\n",
    "    return model\n",
    "\n",
    "\n",
    "X_train, X_test, y_train, y_test = train_test_split(X, y, test_size=0.3, random_state=42)\n",
    "functions = [\n",
    "  create_model_dropout,\n",
    "  create_model_regularizerL1,\n",
    "  create_model_regularizerl2\n",
    "]\n",
    "\n",
    "optimizers = [\n",
    "    Adam(learning_rate=0.001, beta_1=0.9, beta_2=0.999, epsilon=1e-07),\n",
    "    RMSprop(learning_rate=0.001, rho=0.9, momentum=0.0, epsilon=1e-07),\n",
    "    SGD(lr=0.01, momentum=0.9), \n",
    "    SGD(lr=0.001, momentum=0.9),\n",
    "    ]\n",
    "optimizer_names = ['Adam', \"RmsProp\", \"SGD:0.01\", \"SGD:0.001\"]\n",
    "function_names = [\"Dropout\", \"L1\", \"L2\"]\n",
    "values = [1e-1, 1e-2, 1e-3, 1e-4]\n",
    "model_performance = []\n",
    "for index, function in enumerate(functions):\n",
    "    name = function_names[index]\n",
    "    for idx, optimizer in enumerate(optimizers):\n",
    "        optimizer_name = optimizer_names[idx]\n",
    "        value = values[idx]\n",
    "        model = create_keras_classifier(function, optimizer, index, value)\n",
    "        \n",
    "        model.fit(X_train, y_train)\n",
    "        accuracy = model.score(X_test, y_test)\n",
    "        model_performance.append({\n",
    "            \"Model\": name,\n",
    "            \"Accuracy\": accuracy,\n",
    "            \"Optimizer\": optimizer_name,\n",
    "            \"Value\": value\n",
    "        })\n",
    "model_df = pd.DataFrame(model_performance)\n",
    "end_result = model_df.sort_values(by=\"Accuracy\", ascending=False)\n",
    "end_result"
   ]
  },
  {
   "cell_type": "markdown",
   "metadata": {},
   "source": [
    "# Add Validation data"
   ]
  },
  {
   "cell_type": "code",
   "execution_count": 29,
   "metadata": {},
   "outputs": [
    {
     "name": "stderr",
     "output_type": "stream",
     "text": [
      "/Users/maukanmir/miniforge3/envs/machine-learning-env/lib/python3.9/site-packages/keras/optimizers/optimizer_v2/gradient_descent.py:114: UserWarning: The `lr` argument is deprecated, use `learning_rate` instead.\n",
      "  super().__init__(name, **kwargs)\n",
      "/var/folders/bb/2qsf8cm95jg05zrms2_8m2qr0000gn/T/ipykernel_81491/2037113419.py:10: DeprecationWarning: KerasClassifier is deprecated, use Sci-Keras (https://github.com/adriangb/scikeras) instead. See https://www.adriangb.com/scikeras/stable/migration.html for help migrating.\n",
      "  model = KerasClassifier(\n"
     ]
    }
   ],
   "source": [
    "from keras.optimizers import SGD, Adam, RMSprop\n",
    "from keras.regularizers import l2, l1\n",
    "from tensorflow.keras.wrappers.scikit_learn import KerasClassifier\n",
    "from tensorflow.keras.models import Sequential\n",
    "from tensorflow.keras.layers import Dense, Dropout\n",
    "\n",
    "def create_keras_classifier(function, optimizer, idx, param, validation_data):\n",
    "    if idx == 0:\n",
    "        \n",
    "        model = KerasClassifier(\n",
    "            build_fn=lambda: function(input_dim=X_train.shape[1], optimizer=optimizer)\n",
    "            , epochs=100, \n",
    "            batch_size=64, \n",
    "            verbose=0,\n",
    "            validation_data= validation_data\n",
    "            )\n",
    "    elif idx ==1:\n",
    "        model = KerasClassifier(\n",
    "            build_fn=lambda: function(input_dim=X_train.shape[1], optimizer=optimizer, param=param)\n",
    "            , epochs=100, \n",
    "            batch_size=64, \n",
    "            verbose=0,\n",
    "            validation_data= validation_data\n",
    "            )\n",
    "        \n",
    "    else:\n",
    "        model = KerasClassifier(\n",
    "            build_fn=lambda: function(input_dim=X_train.shape[1], optimizer=optimizer, param=param)\n",
    "            , epochs=100, \n",
    "            batch_size=64, \n",
    "            verbose=0,\n",
    "            validation_data= validation_data\n",
    "            )\n",
    "    return model\n",
    "\n",
    "def create_model_dropout(input_dim, optimizer='adam'):\n",
    "    model = Sequential()\n",
    "    model.add(Dense(64, input_dim=input_dim, activation='relu'))\n",
    "    model.add(Dropout(0.2))\n",
    "    model.add(Dense(32, activation='relu'))\n",
    "    model.add(Dropout(0.2))\n",
    "    model.add(Dense(1, activation='sigmoid'))\n",
    "    model.compile(loss='binary_crossentropy', optimizer=optimizer, metrics=['accuracy'])\n",
    "    return model\n",
    "def create_model_regularizerl2(input_dim, optimizer=\"adam\",param= 0.001):\n",
    "    model = Sequential()\n",
    "    model.add(Dense(64, input_dim=input_dim, activation='relu', kernel_regularizer=l2(param) ))\n",
    "    model.add(Dense(32, activation='relu'))\n",
    "    model.add(Dense(1, activation='sigmoid'))\n",
    "    model.compile(loss='binary_crossentropy', optimizer=optimizer, metrics=['accuracy'])\n",
    "    return model\n",
    "def create_model_regularizerL1(input_dim, optimizer=\"adam\",param= 0.001):\n",
    "    model = Sequential()\n",
    "    model.add(Dense(64, input_dim=input_dim, activation='relu', activity_regularizer=l1(param) ))\n",
    "    model.add(Dense(32, activation='relu'))\n",
    "    model.add(Dense(1, activation='sigmoid'))\n",
    "    model.compile(loss='binary_crossentropy', optimizer=optimizer, metrics=['accuracy'])\n",
    "    return model\n",
    "\n",
    "\n",
    "X_train, X_temp, y_train, y_temp = train_test_split(X, y, test_size=0.3, random_state=42)\n",
    "X_val, X_test, y_val, y_test = train_test_split(X_temp, y_temp, test_size=0.5, random_state=42)\n",
    "\n",
    "functions = [\n",
    "  create_model_dropout,\n",
    "  create_model_regularizerL1,\n",
    "  create_model_regularizerl2\n",
    "]\n",
    "\n",
    "optimizers = [\n",
    "    Adam(learning_rate=0.001, beta_1=0.9, beta_2=0.999, epsilon=1e-07),\n",
    "    RMSprop(learning_rate=0.001, rho=0.9, momentum=0.0, epsilon=1e-07),\n",
    "    SGD(lr=0.01, momentum=0.9), \n",
    "    SGD(lr=0.001, momentum=0.9),\n",
    "    ]\n",
    "optimizer_names = ['Adam', \"RmsProp\", \"SGD:0.01\", \"SGD:0.001\"]\n",
    "function_names = [\"Dropout\", \"L1\", \"L2\"]\n",
    "values = [1e-1, 1e-2, 1e-3, 1e-4]\n",
    "model_performance = []\n",
    "for index, function in enumerate(functions):\n",
    "    name = function_names[index]\n",
    "    for idx, optimizer in enumerate(optimizers):\n",
    "        optimizer_name = optimizer_names[idx]\n",
    "        value = values[idx]\n",
    "        model = create_keras_classifier(function, optimizer, index, value, (X_val, y_val))\n",
    "        \n",
    "        model.fit(X_train, y_train)\n",
    "        accuracy = model.score(X_test, y_test)\n",
    "        model_performance.append({\n",
    "            \"Model\": name,\n",
    "            \"Accuracy\": accuracy,\n",
    "            \"Optimizer\": optimizer_name,\n",
    "            \"Value\": value\n",
    "        })\n",
    "model_df = pd.DataFrame(model_performance)\n",
    "end_result = model_df.sort_values(by=\"Accuracy\", ascending=False)\n",
    "end_result"
   ]
  }
 ],
 "metadata": {
  "kernelspec": {
   "display_name": "Python 3",
   "language": "python",
   "name": "python3"
  },
  "language_info": {
   "codemirror_mode": {
    "name": "ipython",
    "version": 3
   },
   "file_extension": ".py",
   "mimetype": "text/x-python",
   "name": "python",
   "nbconvert_exporter": "python",
   "pygments_lexer": "ipython3",
   "version": "3.9.19"
  }
 },
 "nbformat": 4,
 "nbformat_minor": 2
}
